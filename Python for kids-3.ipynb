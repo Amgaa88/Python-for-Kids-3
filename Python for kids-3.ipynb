{
 "cells": [
  {
   "cell_type": "markdown",
   "id": "8bd1b147",
   "metadata": {},
   "source": [
    "# Chapter 10. Useful Python Modules"
   ]
  },
  {
   "cell_type": "markdown",
   "id": "e05cc3f9",
   "metadata": {},
   "source": [
    "Python has a lot of modules for doing all sorts of different tasks. \n",
    "In this chapter, we’ll look at some of the most useful ones and try some of their functions."
   ]
  },
  {
   "cell_type": "markdown",
   "id": "5de02d92",
   "metadata": {},
   "source": [
    "# Making Copies with the copy Module"
   ]
  },
  {
   "cell_type": "markdown",
   "id": "60d695c1",
   "metadata": {},
   "source": [
    "The copy module contains functions for creating copies of objects. Usually, when writing a program, \n",
    "you’ll create new objects, but sometimes it’s useful to create a copy of an object, and then use that \n",
    "copy to create a new object, particularly when the process of creating an object takes several steps."
   ]
  },
  {
   "cell_type": "markdown",
   "id": "22f031ad",
   "metadata": {},
   "source": [
    "For example, suppose we have an Animal class, with an __init__ function that \n",
    "takes the parameters name, number_of_legs, and color."
   ]
  },
  {
   "cell_type": "code",
   "execution_count": 1,
   "id": "da7f8e7a",
   "metadata": {},
   "outputs": [],
   "source": [
    "class Animal:\n",
    "        def __init__(self, species, number_of_legs, color):\n",
    "            self.species = species\n",
    "            self.number_of_legs = number_of_legs\n",
    "            self.color = color"
   ]
  },
  {
   "cell_type": "markdown",
   "id": "ebb7bbff",
   "metadata": {},
   "source": [
    "We could create a new object in the class Animal using the following code. \n",
    "Let’s create a pink hippogriff with six legs, called harry."
   ]
  },
  {
   "cell_type": "code",
   "execution_count": 2,
   "id": "c447d2c8",
   "metadata": {},
   "outputs": [],
   "source": [
    "harry = Animal('hippogriff', 6, 'pink')"
   ]
  },
  {
   "cell_type": "markdown",
   "id": "07b86670",
   "metadata": {},
   "source": [
    "Suppose we want a herd of pink hippogriffs with six legs? \n",
    "We could repeat the previous code over and over again, or use copy, which can be found in the copy module:"
   ]
  },
  {
   "cell_type": "code",
   "execution_count": 3,
   "id": "e9a062af",
   "metadata": {},
   "outputs": [
    {
     "name": "stdout",
     "output_type": "stream",
     "text": [
      "hippogriff\n",
      "hippogriff\n"
     ]
    }
   ],
   "source": [
    "import copy\n",
    "harry = Animal('hippogriff', 6, 'pink')\n",
    "harriet = copy.copy(harry)\n",
    "print(harry.species)\n",
    "print(harriet.species)\n"
   ]
  },
  {
   "cell_type": "markdown",
   "id": "bdfdb4a6",
   "metadata": {},
   "source": [
    "We can also create and copy a list of Animal objects."
   ]
  },
  {
   "cell_type": "code",
   "execution_count": 4,
   "id": "d670e1bb",
   "metadata": {},
   "outputs": [
    {
     "name": "stdout",
     "output_type": "stream",
     "text": [
      "hippogriff\n",
      "chimera\n"
     ]
    }
   ],
   "source": [
    "harry = Animal('hippogriff', 6, 'pink')\n",
    "carrie = Animal('chimera', 4, 'green polka dots')\n",
    "billy = Animal('bogill', 0, 'paisley')\n",
    "my_animals = [harry, carrie, billy]\n",
    "more_animals = copy.copy(my_animals)\n",
    "print(more_animals[0].species)\n",
    "print(more_animals[1].species)\n"
   ]
  },
  {
   "cell_type": "code",
   "execution_count": 5,
   "id": "7cf9f908",
   "metadata": {},
   "outputs": [
    {
     "name": "stdout",
     "output_type": "stream",
     "text": [
      "ghoul\n",
      "ghoul\n"
     ]
    }
   ],
   "source": [
    "my_animals[0].species = 'ghoul'\n",
    "print(my_animals[0].species)\n",
    "print(more_animals[0].species)\n"
   ]
  },
  {
   "cell_type": "markdown",
   "id": "caeb2dd4",
   "metadata": {},
   "source": [
    "By the same token, if we add a new animal to the first list (my_animals), \n",
    "it doesn’t appear in the copy (more_animals). \n",
    "As proof, print the length of each list after adding another animal, like this:"
   ]
  },
  {
   "cell_type": "code",
   "execution_count": 6,
   "id": "47bee01c",
   "metadata": {},
   "outputs": [
    {
     "name": "stdout",
     "output_type": "stream",
     "text": [
      "4\n",
      "3\n"
     ]
    }
   ],
   "source": [
    "sally = Animal('sphinx', 4, 'sand')\n",
    "my_animals.append(sally)\n",
    "print(len(my_animals))\n",
    "print(len(more_animals))\n"
   ]
  },
  {
   "cell_type": "markdown",
   "id": "d721552c",
   "metadata": {},
   "source": [
    "When we use deepcopy to copy my_animals, we get a new list complete with copies of all of its objects. \n",
    "As a result, changes to one of our original\n",
    "Animal objects won’t affect the objects in the new list. Here’s an example:"
   ]
  },
  {
   "cell_type": "code",
   "execution_count": 8,
   "id": "20b26849",
   "metadata": {},
   "outputs": [
    {
     "name": "stdout",
     "output_type": "stream",
     "text": [
      "wyrm\n",
      "ghoul\n"
     ]
    }
   ],
   "source": [
    "more_animals = copy.deepcopy(my_animals)\n",
    "my_animals[0].species = 'wyrm'\n",
    "print(my_animals[0].species)\n",
    "print(more_animals[0].species)\n"
   ]
  },
  {
   "cell_type": "markdown",
   "id": "d3c5fe13",
   "metadata": {},
   "source": [
    "# Getting Random Numbers with the random Module"
   ]
  },
  {
   "cell_type": "code",
   "execution_count": 9,
   "id": "d8a51b9a",
   "metadata": {},
   "outputs": [
    {
     "name": "stdout",
     "output_type": "stream",
     "text": [
      "75\n"
     ]
    }
   ],
   "source": [
    "import random\n",
    "print(random.randint(1, 100))\n"
   ]
  },
  {
   "cell_type": "code",
   "execution_count": 10,
   "id": "21abcbe1",
   "metadata": {},
   "outputs": [
    {
     "name": "stdout",
     "output_type": "stream",
     "text": [
      "532\n",
      "3888\n"
     ]
    }
   ],
   "source": [
    "print(random.randint(100, 1000))\n",
    "print(random.randint(1000, 5000))\n"
   ]
  },
  {
   "cell_type": "markdown",
   "id": "5135db65",
   "metadata": {},
   "source": [
    "You might use randint to do something like create a simple (and annoying) guessing game, using a while loop, like this:"
   ]
  },
  {
   "cell_type": "code",
   "execution_count": 12,
   "id": "0958dec9",
   "metadata": {},
   "outputs": [
    {
     "name": "stdout",
     "output_type": "stream",
     "text": [
      "Guess a number between 1 and 100\n",
      "25\n",
      "Try higher\n",
      "Guess a number between 1 and 100\n",
      "30\n",
      "Try higher\n",
      "Guess a number between 1 and 100\n",
      "72\n",
      "Try higher\n",
      "Guess a number between 1 and 100\n",
      "80\n",
      "Try lower\n",
      "Guess a number between 1 and 100\n",
      "75\n",
      "Try lower\n",
      "Guess a number between 1 and 100\n",
      "74\n",
      "You guessed right\n"
     ]
    }
   ],
   "source": [
    "import random\n",
    "num = random.randint(1, 100)\n",
    "while True:\n",
    "    print('Guess a number between 1 and 100')\n",
    "    guess = input()\n",
    "    i = int(guess)\n",
    "    if i == num:\n",
    "        print('You guessed right')\n",
    "        break\n",
    "    elif i < num:\n",
    "                   print('Try higher')\n",
    "    elif i > num:\n",
    "                   print('Try lower')"
   ]
  },
  {
   "cell_type": "code",
   "execution_count": 13,
   "id": "49fd4350",
   "metadata": {},
   "outputs": [
    {
     "name": "stdout",
     "output_type": "stream",
     "text": [
      "brownies\n"
     ]
    }
   ],
   "source": [
    "import random\n",
    "desserts = ['ice cream', 'pancakes', 'brownies', 'cookies','candy']\n",
    "print(random.choice(desserts))\n"
   ]
  },
  {
   "cell_type": "markdown",
   "id": "2c67ccc1",
   "metadata": {},
   "source": [
    "# Using shuffle to Shuffle a List"
   ]
  },
  {
   "cell_type": "code",
   "execution_count": 14,
   "id": "a2e42b73",
   "metadata": {},
   "outputs": [
    {
     "name": "stdout",
     "output_type": "stream",
     "text": [
      "['pancakes', 'ice cream', 'candy', 'cookies', 'brownies']\n"
     ]
    }
   ],
   "source": [
    "import random\n",
    "desserts = ['ice cream', 'pancakes', 'brownies', 'cookies','candy']\n",
    "random.shuffle(desserts)\n",
    "print(desserts)\n"
   ]
  },
  {
   "cell_type": "markdown",
   "id": "29453fa0",
   "metadata": {},
   "source": [
    "# Doing Time with the time Module"
   ]
  },
  {
   "cell_type": "code",
   "execution_count": 15,
   "id": "ef3e8e16",
   "metadata": {},
   "outputs": [
    {
     "name": "stdout",
     "output_type": "stream",
     "text": [
      "1679815166.613028\n"
     ]
    }
   ],
   "source": [
    "import time\n",
    "print(time.time())\n"
   ]
  },
  {
   "cell_type": "code",
   "execution_count": 16,
   "id": "1e9524bb",
   "metadata": {},
   "outputs": [],
   "source": [
    "#Numbers of seconds since January 1, 1970"
   ]
  },
  {
   "cell_type": "code",
   "execution_count": 17,
   "id": "a9b0edc4",
   "metadata": {},
   "outputs": [],
   "source": [
    "def lots_of_numbers(max):\n",
    "        for x in range(0, max):\n",
    "                print(x)"
   ]
  },
  {
   "cell_type": "code",
   "execution_count": 18,
   "id": "972cf473",
   "metadata": {
    "collapsed": true
   },
   "outputs": [
    {
     "name": "stdout",
     "output_type": "stream",
     "text": [
      "0\n",
      "1\n",
      "2\n",
      "3\n",
      "4\n",
      "5\n",
      "6\n",
      "7\n",
      "8\n",
      "9\n",
      "10\n",
      "11\n",
      "12\n",
      "13\n",
      "14\n",
      "15\n",
      "16\n",
      "17\n",
      "18\n",
      "19\n",
      "20\n",
      "21\n",
      "22\n",
      "23\n",
      "24\n",
      "25\n",
      "26\n",
      "27\n",
      "28\n",
      "29\n",
      "30\n",
      "31\n",
      "32\n",
      "33\n",
      "34\n",
      "35\n",
      "36\n",
      "37\n",
      "38\n",
      "39\n",
      "40\n",
      "41\n",
      "42\n",
      "43\n",
      "44\n",
      "45\n",
      "46\n",
      "47\n",
      "48\n",
      "49\n",
      "50\n",
      "51\n",
      "52\n",
      "53\n",
      "54\n",
      "55\n",
      "56\n",
      "57\n",
      "58\n",
      "59\n",
      "60\n",
      "61\n",
      "62\n",
      "63\n",
      "64\n",
      "65\n",
      "66\n",
      "67\n",
      "68\n",
      "69\n",
      "70\n",
      "71\n",
      "72\n",
      "73\n",
      "74\n",
      "75\n",
      "76\n",
      "77\n",
      "78\n",
      "79\n",
      "80\n",
      "81\n",
      "82\n",
      "83\n",
      "84\n",
      "85\n",
      "86\n",
      "87\n",
      "88\n",
      "89\n",
      "90\n",
      "91\n",
      "92\n",
      "93\n",
      "94\n",
      "95\n",
      "96\n",
      "97\n",
      "98\n",
      "99\n",
      "100\n",
      "101\n",
      "102\n",
      "103\n",
      "104\n",
      "105\n",
      "106\n",
      "107\n",
      "108\n",
      "109\n",
      "110\n",
      "111\n",
      "112\n",
      "113\n",
      "114\n",
      "115\n",
      "116\n",
      "117\n",
      "118\n",
      "119\n",
      "120\n",
      "121\n",
      "122\n",
      "123\n",
      "124\n",
      "125\n",
      "126\n",
      "127\n",
      "128\n",
      "129\n",
      "130\n",
      "131\n",
      "132\n",
      "133\n",
      "134\n",
      "135\n",
      "136\n",
      "137\n",
      "138\n",
      "139\n",
      "140\n",
      "141\n",
      "142\n",
      "143\n",
      "144\n",
      "145\n",
      "146\n",
      "147\n",
      "148\n",
      "149\n",
      "150\n",
      "151\n",
      "152\n",
      "153\n",
      "154\n",
      "155\n",
      "156\n",
      "157\n",
      "158\n",
      "159\n",
      "160\n",
      "161\n",
      "162\n",
      "163\n",
      "164\n",
      "165\n",
      "166\n",
      "167\n",
      "168\n",
      "169\n",
      "170\n",
      "171\n",
      "172\n",
      "173\n",
      "174\n",
      "175\n",
      "176\n",
      "177\n",
      "178\n",
      "179\n",
      "180\n",
      "181\n",
      "182\n",
      "183\n",
      "184\n",
      "185\n",
      "186\n",
      "187\n",
      "188\n",
      "189\n",
      "190\n",
      "191\n",
      "192\n",
      "193\n",
      "194\n",
      "195\n",
      "196\n",
      "197\n",
      "198\n",
      "199\n",
      "200\n",
      "201\n",
      "202\n",
      "203\n",
      "204\n",
      "205\n",
      "206\n",
      "207\n",
      "208\n",
      "209\n",
      "210\n",
      "211\n",
      "212\n",
      "213\n",
      "214\n",
      "215\n",
      "216\n",
      "217\n",
      "218\n",
      "219\n",
      "220\n",
      "221\n",
      "222\n",
      "223\n",
      "224\n",
      "225\n",
      "226\n",
      "227\n",
      "228\n",
      "229\n",
      "230\n",
      "231\n",
      "232\n",
      "233\n",
      "234\n",
      "235\n",
      "236\n",
      "237\n",
      "238\n",
      "239\n",
      "240\n",
      "241\n",
      "242\n",
      "243\n",
      "244\n",
      "245\n",
      "246\n",
      "247\n",
      "248\n",
      "249\n",
      "250\n",
      "251\n",
      "252\n",
      "253\n",
      "254\n",
      "255\n",
      "256\n",
      "257\n",
      "258\n",
      "259\n",
      "260\n",
      "261\n",
      "262\n",
      "263\n",
      "264\n",
      "265\n",
      "266\n",
      "267\n",
      "268\n",
      "269\n",
      "270\n",
      "271\n",
      "272\n",
      "273\n",
      "274\n",
      "275\n",
      "276\n",
      "277\n",
      "278\n",
      "279\n",
      "280\n",
      "281\n",
      "282\n",
      "283\n",
      "284\n",
      "285\n",
      "286\n",
      "287\n",
      "288\n",
      "289\n",
      "290\n",
      "291\n",
      "292\n",
      "293\n",
      "294\n",
      "295\n",
      "296\n",
      "297\n",
      "298\n",
      "299\n",
      "300\n",
      "301\n",
      "302\n",
      "303\n",
      "304\n",
      "305\n",
      "306\n",
      "307\n",
      "308\n",
      "309\n",
      "310\n",
      "311\n",
      "312\n",
      "313\n",
      "314\n",
      "315\n",
      "316\n",
      "317\n",
      "318\n",
      "319\n",
      "320\n",
      "321\n",
      "322\n",
      "323\n",
      "324\n",
      "325\n",
      "326\n",
      "327\n",
      "328\n",
      "329\n",
      "330\n",
      "331\n",
      "332\n",
      "333\n",
      "334\n",
      "335\n",
      "336\n",
      "337\n",
      "338\n",
      "339\n",
      "340\n",
      "341\n",
      "342\n",
      "343\n",
      "344\n",
      "345\n",
      "346\n",
      "347\n",
      "348\n",
      "349\n",
      "350\n",
      "351\n",
      "352\n",
      "353\n",
      "354\n",
      "355\n",
      "356\n",
      "357\n",
      "358\n",
      "359\n",
      "360\n",
      "361\n",
      "362\n",
      "363\n",
      "364\n",
      "365\n",
      "366\n",
      "367\n",
      "368\n",
      "369\n",
      "370\n",
      "371\n",
      "372\n",
      "373\n",
      "374\n",
      "375\n",
      "376\n",
      "377\n",
      "378\n",
      "379\n",
      "380\n",
      "381\n",
      "382\n",
      "383\n",
      "384\n",
      "385\n",
      "386\n",
      "387\n",
      "388\n",
      "389\n",
      "390\n",
      "391\n",
      "392\n",
      "393\n",
      "394\n",
      "395\n",
      "396\n",
      "397\n",
      "398\n",
      "399\n",
      "400\n",
      "401\n",
      "402\n",
      "403\n",
      "404\n",
      "405\n",
      "406\n",
      "407\n",
      "408\n",
      "409\n",
      "410\n",
      "411\n",
      "412\n",
      "413\n",
      "414\n",
      "415\n",
      "416\n",
      "417\n",
      "418\n",
      "419\n",
      "420\n",
      "421\n",
      "422\n",
      "423\n",
      "424\n",
      "425\n",
      "426\n",
      "427\n",
      "428\n",
      "429\n",
      "430\n",
      "431\n",
      "432\n",
      "433\n",
      "434\n",
      "435\n",
      "436\n",
      "437\n",
      "438\n",
      "439\n",
      "440\n",
      "441\n",
      "442\n",
      "443\n",
      "444\n",
      "445\n",
      "446\n",
      "447\n",
      "448\n",
      "449\n",
      "450\n",
      "451\n",
      "452\n",
      "453\n",
      "454\n",
      "455\n",
      "456\n",
      "457\n",
      "458\n",
      "459\n",
      "460\n",
      "461\n",
      "462\n",
      "463\n",
      "464\n",
      "465\n",
      "466\n",
      "467\n",
      "468\n",
      "469\n",
      "470\n",
      "471\n",
      "472\n",
      "473\n",
      "474\n",
      "475\n",
      "476\n",
      "477\n",
      "478\n",
      "479\n",
      "480\n",
      "481\n",
      "482\n",
      "483\n",
      "484\n",
      "485\n",
      "486\n",
      "487\n",
      "488\n",
      "489\n",
      "490\n",
      "491\n",
      "492\n",
      "493\n",
      "494\n",
      "495\n",
      "496\n",
      "497\n",
      "498\n",
      "499\n",
      "500\n",
      "501\n",
      "502\n",
      "503\n",
      "504\n",
      "505\n",
      "506\n",
      "507\n",
      "508\n",
      "509\n",
      "510\n",
      "511\n",
      "512\n",
      "513\n",
      "514\n",
      "515\n",
      "516\n",
      "517\n",
      "518\n",
      "519\n",
      "520\n",
      "521\n",
      "522\n",
      "523\n",
      "524\n",
      "525\n",
      "526\n",
      "527\n",
      "528\n",
      "529\n",
      "530\n",
      "531\n",
      "532\n",
      "533\n",
      "534\n",
      "535\n",
      "536\n",
      "537\n",
      "538\n",
      "539\n",
      "540\n",
      "541\n",
      "542\n",
      "543\n",
      "544\n",
      "545\n",
      "546\n",
      "547\n",
      "548\n",
      "549\n",
      "550\n",
      "551\n",
      "552\n",
      "553\n",
      "554\n",
      "555\n",
      "556\n",
      "557\n",
      "558\n",
      "559\n",
      "560\n",
      "561\n",
      "562\n",
      "563\n",
      "564\n",
      "565\n",
      "566\n",
      "567\n",
      "568\n",
      "569\n",
      "570\n",
      "571\n",
      "572\n",
      "573\n",
      "574\n",
      "575\n",
      "576\n",
      "577\n",
      "578\n",
      "579\n",
      "580\n",
      "581\n",
      "582\n",
      "583\n",
      "584\n",
      "585\n",
      "586\n",
      "587\n",
      "588\n",
      "589\n",
      "590\n",
      "591\n",
      "592\n",
      "593\n",
      "594\n",
      "595\n",
      "596\n",
      "597\n",
      "598\n",
      "599\n",
      "600\n",
      "601\n",
      "602\n",
      "603\n",
      "604\n",
      "605\n",
      "606\n",
      "607\n",
      "608\n",
      "609\n",
      "610\n",
      "611\n",
      "612\n",
      "613\n",
      "614\n",
      "615\n",
      "616\n",
      "617\n",
      "618\n",
      "619\n",
      "620\n",
      "621\n",
      "622\n",
      "623\n",
      "624\n",
      "625\n",
      "626\n",
      "627\n",
      "628\n",
      "629\n",
      "630\n",
      "631\n",
      "632\n",
      "633\n",
      "634\n",
      "635\n",
      "636\n",
      "637\n",
      "638\n",
      "639\n",
      "640\n",
      "641\n",
      "642\n",
      "643\n",
      "644\n",
      "645\n",
      "646\n",
      "647\n",
      "648\n",
      "649\n",
      "650\n",
      "651\n",
      "652\n",
      "653\n",
      "654\n",
      "655\n",
      "656\n",
      "657\n",
      "658\n",
      "659\n",
      "660\n",
      "661\n",
      "662\n",
      "663\n",
      "664\n",
      "665\n",
      "666\n",
      "667\n",
      "668\n",
      "669\n",
      "670\n",
      "671\n",
      "672\n",
      "673\n",
      "674\n",
      "675\n",
      "676\n",
      "677\n",
      "678\n",
      "679\n",
      "680\n",
      "681\n",
      "682\n",
      "683\n",
      "684\n",
      "685\n",
      "686\n",
      "687\n",
      "688\n",
      "689\n",
      "690\n",
      "691\n",
      "692\n",
      "693\n",
      "694\n",
      "695\n",
      "696\n",
      "697\n",
      "698\n",
      "699\n",
      "700\n",
      "701\n",
      "702\n",
      "703\n",
      "704\n",
      "705\n",
      "706\n",
      "707\n",
      "708\n",
      "709\n",
      "710\n",
      "711\n",
      "712\n",
      "713\n",
      "714\n",
      "715\n",
      "716\n",
      "717\n",
      "718\n",
      "719\n",
      "720\n",
      "721\n",
      "722\n",
      "723\n",
      "724\n",
      "725\n",
      "726\n",
      "727\n",
      "728\n",
      "729\n",
      "730\n",
      "731\n",
      "732\n",
      "733\n",
      "734\n",
      "735\n",
      "736\n",
      "737\n",
      "738\n",
      "739\n",
      "740\n",
      "741\n",
      "742\n",
      "743\n",
      "744\n",
      "745\n",
      "746\n",
      "747\n",
      "748\n",
      "749\n",
      "750\n",
      "751\n",
      "752\n",
      "753\n",
      "754\n",
      "755\n",
      "756\n",
      "757\n",
      "758\n",
      "759\n",
      "760\n",
      "761\n",
      "762\n",
      "763\n",
      "764\n",
      "765\n",
      "766\n",
      "767\n",
      "768\n",
      "769\n",
      "770\n",
      "771\n",
      "772\n",
      "773\n",
      "774\n",
      "775\n",
      "776\n",
      "777\n",
      "778\n",
      "779\n",
      "780\n",
      "781\n",
      "782\n",
      "783\n",
      "784\n",
      "785\n",
      "786\n",
      "787\n",
      "788\n",
      "789\n",
      "790\n",
      "791\n",
      "792\n",
      "793\n",
      "794\n",
      "795\n",
      "796\n",
      "797\n",
      "798\n",
      "799\n",
      "800\n",
      "801\n",
      "802\n",
      "803\n",
      "804\n",
      "805\n",
      "806\n",
      "807\n",
      "808\n",
      "809\n",
      "810\n",
      "811\n",
      "812\n",
      "813\n",
      "814\n",
      "815\n",
      "816\n",
      "817\n",
      "818\n",
      "819\n",
      "820\n",
      "821\n",
      "822\n",
      "823\n",
      "824\n",
      "825\n",
      "826\n",
      "827\n",
      "828\n",
      "829\n",
      "830\n",
      "831\n",
      "832\n",
      "833\n",
      "834\n",
      "835\n",
      "836\n",
      "837\n",
      "838\n",
      "839\n",
      "840\n",
      "841\n",
      "842\n",
      "843\n",
      "844\n",
      "845\n",
      "846\n",
      "847\n",
      "848\n",
      "849\n",
      "850\n",
      "851\n",
      "852\n",
      "853\n",
      "854\n",
      "855\n",
      "856\n",
      "857\n",
      "858\n",
      "859\n",
      "860\n",
      "861\n",
      "862\n",
      "863\n",
      "864\n",
      "865\n",
      "866\n",
      "867\n",
      "868\n",
      "869\n",
      "870\n",
      "871\n",
      "872\n",
      "873\n",
      "874\n",
      "875\n",
      "876\n",
      "877\n",
      "878\n",
      "879\n",
      "880\n",
      "881\n",
      "882\n",
      "883\n",
      "884\n",
      "885\n",
      "886\n",
      "887\n",
      "888\n",
      "889\n",
      "890\n",
      "891\n",
      "892\n",
      "893\n",
      "894\n",
      "895\n",
      "896\n",
      "897\n",
      "898\n",
      "899\n",
      "900\n",
      "901\n",
      "902\n",
      "903\n",
      "904\n",
      "905\n",
      "906\n",
      "907\n",
      "908\n",
      "909\n",
      "910\n",
      "911\n",
      "912\n",
      "913\n",
      "914\n",
      "915\n",
      "916\n",
      "917\n",
      "918\n",
      "919\n",
      "920\n",
      "921\n",
      "922\n",
      "923\n",
      "924\n",
      "925\n",
      "926\n",
      "927\n",
      "928\n",
      "929\n",
      "930\n",
      "931\n",
      "932\n",
      "933\n",
      "934\n",
      "935\n",
      "936\n",
      "937\n",
      "938\n",
      "939\n",
      "940\n",
      "941\n",
      "942\n",
      "943\n",
      "944\n",
      "945\n",
      "946\n",
      "947\n",
      "948\n",
      "949\n",
      "950\n",
      "951\n",
      "952\n",
      "953\n",
      "954\n",
      "955\n",
      "956\n",
      "957\n",
      "958\n",
      "959\n",
      "960\n",
      "961\n",
      "962\n",
      "963\n",
      "964\n",
      "965\n",
      "966\n",
      "967\n",
      "968\n",
      "969\n",
      "970\n",
      "971\n",
      "972\n",
      "973\n",
      "974\n",
      "975\n",
      "976\n",
      "977\n",
      "978\n",
      "979\n",
      "980\n",
      "981\n",
      "982\n",
      "983\n",
      "984\n",
      "985\n",
      "986\n",
      "987\n",
      "988\n",
      "989\n",
      "990\n",
      "991\n",
      "992\n",
      "993\n",
      "994\n",
      "995\n",
      "996\n",
      "997\n",
      "998\n",
      "999\n"
     ]
    }
   ],
   "source": [
    "lots_of_numbers(1000)"
   ]
  },
  {
   "cell_type": "markdown",
   "id": "1035de0c",
   "metadata": {},
   "source": [
    "Then work out how long the function takes by modifying our program with the time module."
   ]
  },
  {
   "cell_type": "code",
   "execution_count": 19,
   "id": "aa2a02be",
   "metadata": {},
   "outputs": [],
   "source": [
    "def lots_of_numbers(max):\n",
    "    t1 = time.time()\n",
    "    for x in range(0, max):\n",
    "        print(x)\n",
    "    t2 = time.time()\n",
    "    print('it took %s seconds' % (t2-t1))"
   ]
  },
  {
   "cell_type": "code",
   "execution_count": 20,
   "id": "5bd84b7d",
   "metadata": {
    "scrolled": true
   },
   "outputs": [
    {
     "name": "stdout",
     "output_type": "stream",
     "text": [
      "0\n",
      "1\n",
      "2\n",
      "3\n",
      "4\n",
      "5\n",
      "6\n",
      "7\n",
      "8\n",
      "9\n",
      "10\n",
      "11\n",
      "12\n",
      "13\n",
      "14\n",
      "15\n",
      "16\n",
      "17\n",
      "18\n",
      "19\n",
      "20\n",
      "21\n",
      "22\n",
      "23\n",
      "24\n",
      "25\n",
      "26\n",
      "27\n",
      "28\n",
      "29\n",
      "30\n",
      "31\n",
      "32\n",
      "33\n",
      "34\n",
      "35\n",
      "36\n",
      "37\n",
      "38\n",
      "39\n",
      "40\n",
      "41\n",
      "42\n",
      "43\n",
      "44\n",
      "45\n",
      "46\n",
      "47\n",
      "48\n",
      "49\n",
      "50\n",
      "51\n",
      "52\n",
      "53\n",
      "54\n",
      "55\n",
      "56\n",
      "57\n",
      "58\n",
      "59\n",
      "60\n",
      "61\n",
      "62\n",
      "63\n",
      "64\n",
      "65\n",
      "66\n",
      "67\n",
      "68\n",
      "69\n",
      "70\n",
      "71\n",
      "72\n",
      "73\n",
      "74\n",
      "75\n",
      "76\n",
      "77\n",
      "78\n",
      "79\n",
      "80\n",
      "81\n",
      "82\n",
      "83\n",
      "84\n",
      "85\n",
      "86\n",
      "87\n",
      "88\n",
      "89\n",
      "90\n",
      "91\n",
      "92\n",
      "93\n",
      "94\n",
      "95\n",
      "96\n",
      "97\n",
      "98\n",
      "99\n",
      "it took 0.0041768550872802734 seconds\n"
     ]
    }
   ],
   "source": [
    "lots_of_numbers(100)"
   ]
  },
  {
   "cell_type": "markdown",
   "id": "540dea5d",
   "metadata": {},
   "source": [
    "# Converting a Date with asctime"
   ]
  },
  {
   "cell_type": "code",
   "execution_count": 21,
   "id": "651dda1c",
   "metadata": {},
   "outputs": [
    {
     "name": "stdout",
     "output_type": "stream",
     "text": [
      "Sun Mar 26 15:22:11 2023\n"
     ]
    }
   ],
   "source": [
    "import time\n",
    "print(time.asctime())"
   ]
  },
  {
   "cell_type": "markdown",
   "id": "9a39084e",
   "metadata": {},
   "source": [
    "To call asctime with a parameter, we first create a tuple with values for the date and time. \n",
    "For example, here we assign the tuple to the variable t :"
   ]
  },
  {
   "cell_type": "code",
   "execution_count": 23,
   "id": "11c71528",
   "metadata": {},
   "outputs": [
    {
     "name": "stdout",
     "output_type": "stream",
     "text": [
      "Sun Feb 23 10:30:48 2020\n"
     ]
    }
   ],
   "source": [
    "import time\n",
    "t = (2020, 2, 23, 10, 30, 48, 6, 0, 0)\n",
    "print(time.asctime(t))"
   ]
  },
  {
   "cell_type": "markdown",
   "id": "3b439725",
   "metadata": {},
   "source": [
    "# Taking Some Time Off with sleep"
   ]
  },
  {
   "cell_type": "markdown",
   "id": "47b630fd",
   "metadata": {},
   "source": [
    "The function sleep is quite useful when you want to delay or slow down your program. \n",
    "For example, to print every second from 1 to 61, we could use the following loop:"
   ]
  },
  {
   "cell_type": "code",
   "execution_count": 26,
   "id": "f994a20e",
   "metadata": {
    "scrolled": true
   },
   "outputs": [
    {
     "name": "stdout",
     "output_type": "stream",
     "text": [
      "1\n",
      "2\n",
      "3\n",
      "4\n",
      "5\n",
      "6\n",
      "7\n",
      "8\n",
      "9\n",
      "10\n",
      "11\n",
      "12\n",
      "13\n",
      "14\n",
      "15\n",
      "16\n",
      "17\n",
      "18\n",
      "19\n",
      "20\n",
      "21\n",
      "22\n",
      "23\n",
      "24\n",
      "25\n",
      "26\n",
      "27\n",
      "28\n",
      "29\n",
      "30\n",
      "31\n",
      "32\n",
      "33\n",
      "34\n",
      "35\n",
      "36\n",
      "37\n",
      "38\n",
      "39\n",
      "40\n",
      "41\n",
      "42\n",
      "43\n",
      "44\n",
      "45\n",
      "46\n",
      "47\n",
      "48\n",
      "49\n",
      "50\n",
      "51\n",
      "52\n",
      "53\n",
      "54\n",
      "55\n",
      "56\n",
      "57\n",
      "58\n",
      "59\n",
      "60\n"
     ]
    }
   ],
   "source": [
    "for x in range(1, 61):\n",
    "        print(x)"
   ]
  },
  {
   "cell_type": "code",
   "execution_count": 29,
   "id": "fb37c9d9",
   "metadata": {
    "scrolled": true
   },
   "outputs": [
    {
     "name": "stdout",
     "output_type": "stream",
     "text": [
      "1\n",
      "2\n",
      "3\n",
      "4\n",
      "5\n",
      "6\n",
      "7\n",
      "8\n",
      "9\n",
      "10\n",
      "11\n",
      "12\n",
      "13\n",
      "14\n",
      "15\n",
      "16\n",
      "17\n",
      "18\n",
      "19\n",
      "20\n",
      "21\n",
      "22\n",
      "23\n",
      "24\n",
      "25\n",
      "26\n",
      "27\n",
      "28\n",
      "29\n",
      "30\n",
      "31\n",
      "32\n",
      "33\n",
      "34\n",
      "35\n",
      "36\n",
      "37\n",
      "38\n",
      "39\n",
      "40\n",
      "41\n",
      "42\n",
      "43\n",
      "44\n",
      "45\n",
      "46\n",
      "47\n",
      "48\n",
      "49\n",
      "50\n",
      "51\n",
      "52\n",
      "53\n",
      "54\n",
      "55\n",
      "56\n",
      "57\n",
      "58\n",
      "59\n",
      "60\n"
     ]
    }
   ],
   "source": [
    "for x in range(1, 61):\n",
    "        print(x)\n",
    "        time.sleep(0.1)"
   ]
  },
  {
   "cell_type": "markdown",
   "id": "7884204d",
   "metadata": {},
   "source": [
    "# HOMEWORK"
   ]
  },
  {
   "cell_type": "markdown",
   "id": "f07618f5",
   "metadata": {},
   "source": [
    "#1: Copied Cars\n",
    "What will the following code print?\n",
    "\n",
    "import copy\n",
    "class Car:\n",
    "    pass\n",
    "\n",
    "car1 = Car()\n",
    "car1.wheels = 4\n",
    "car2 = car1\n",
    "car2.wheels = 3\n",
    "print(car1.wheels)\n",
    "What is printed here?\n",
    "car3 = copy.copy(car1)\n",
    "car3.wheels = 6\n",
    "print(car1.wheels)\n",
    "What is printed here?"
   ]
  },
  {
   "cell_type": "markdown",
   "id": "7f38b238",
   "metadata": {},
   "source": [
    "# Chapter 12. Using tkinter for Better Graphics"
   ]
  },
  {
   "cell_type": "markdown",
   "id": "2ffd7363",
   "metadata": {},
   "source": [
    "# Creating a Clickable Button"
   ]
  },
  {
   "cell_type": "code",
   "execution_count": 31,
   "id": "e9aca567",
   "metadata": {},
   "outputs": [],
   "source": [
    "from tkinter import *\n",
    "tk = Tk() #variable containing object named Tk()\n",
    "btn = Button(tk, text=\"click me\") #create a button and pass tk variable as the first parameter, click me as the second parameter\n",
    "btn.pack() #tells the button to appear"
   ]
  },
  {
   "cell_type": "code",
   "execution_count": 32,
   "id": "a9bf3c3c",
   "metadata": {},
   "outputs": [],
   "source": [
    "def hello():\n",
    "    print('Hello World')"
   ]
  },
  {
   "cell_type": "code",
   "execution_count": 33,
   "id": "b2f884d8",
   "metadata": {},
   "outputs": [],
   "source": [
    "from tkinter import *\n",
    "tk = Tk() #variable containing object named Tk()\n",
    "btn = Button(tk, text=\"click me\", command=hello) #create a button and pass tk variable as the first parameter, click me as the second parameter\n",
    "btn.pack() #tells the button to appear"
   ]
  },
  {
   "cell_type": "markdown",
   "id": "d34a74e6",
   "metadata": {},
   "source": [
    "# Creating a Canvas for Drawing"
   ]
  },
  {
   "cell_type": "code",
   "execution_count": 34,
   "id": "4e4aa4a6",
   "metadata": {},
   "outputs": [],
   "source": [
    "from tkinter import *\n",
    "tk = Tk()\n",
    "canvas = Canvas(tk, width=500, height=500)\n",
    "canvas.pack()"
   ]
  },
  {
   "cell_type": "markdown",
   "id": "6aea9d44",
   "metadata": {},
   "source": [
    "# Drawing Lines"
   ]
  },
  {
   "cell_type": "markdown",
   "id": "71c565ae",
   "metadata": {},
   "source": [
    "To draw a line on the canvas, we use pixel coordinates. \n",
    "Coordinates determine the positions of pixels on a surface. \n",
    "On a tkinter canvas, coordinates describe how far across the canvas (from left to right) \n",
    "and how far down the canvas (top to bottom) to place the pixel.\n",
    "\n",
    "For example, since our canvas is 500 pixels wide by 500 pixels high, \n",
    "the coordinates of the bottom-right corner of the screen are (500, 500). \n",
    "To draw the line shown in the following image, we would use the starting \n",
    "coordinates (0, 0) and ending coordinates (500, 500)."
   ]
  },
  {
   "cell_type": "code",
   "execution_count": 36,
   "id": "10726f36",
   "metadata": {},
   "outputs": [
    {
     "data": {
      "text/plain": [
       "1"
      ]
     },
     "execution_count": 36,
     "metadata": {},
     "output_type": "execute_result"
    }
   ],
   "source": [
    "# We specify the coordinates using the create_line function, as shown here:\n",
    "\n",
    "from tkinter import *\n",
    "tk = Tk()\n",
    "canvas = Canvas(tk, width=500, height=500)\n",
    "canvas.pack()\n",
    "canvas.create_line(0, 0, 500, 500)"
   ]
  },
  {
   "cell_type": "markdown",
   "id": "4360fccd",
   "metadata": {},
   "source": [
    "# Drawing Boxes"
   ]
  },
  {
   "cell_type": "markdown",
   "id": "97bb42a8",
   "metadata": {},
   "source": [
    "The tkinter module makes it a lot easier to draw a square or rectangle. \n",
    "All you need to know are the coordinates for the corners. \n",
    "Here’s an example (you can close the other windows now):"
   ]
  },
  {
   "cell_type": "code",
   "execution_count": 37,
   "id": "9dda758a",
   "metadata": {},
   "outputs": [
    {
     "data": {
      "text/plain": [
       "1"
      ]
     },
     "execution_count": 37,
     "metadata": {},
     "output_type": "execute_result"
    }
   ],
   "source": [
    "from tkinter import *\n",
    "tk = Tk()\n",
    "canvas = Canvas(tk, width=400, height=400)\n",
    "canvas.pack()\n",
    "canvas.create_rectangle(10, 10, 50, 50)"
   ]
  },
  {
   "cell_type": "markdown",
   "id": "898d40c2",
   "metadata": {},
   "source": [
    "We’ll refer to these two sets of coordinates as x1, y1 and x2, y2. \n",
    "To draw a rectangle, we can increase the distance of the second corner \n",
    "from the side of the canvas (increasing the value of the x2 parameter), like this:"
   ]
  },
  {
   "cell_type": "code",
   "execution_count": 38,
   "id": "e3dba47f",
   "metadata": {},
   "outputs": [
    {
     "data": {
      "text/plain": [
       "1"
      ]
     },
     "execution_count": 38,
     "metadata": {},
     "output_type": "execute_result"
    }
   ],
   "source": [
    "from tkinter import *\n",
    "tk = Tk()\n",
    "canvas = Canvas(tk, width=400, height=400)\n",
    "canvas.pack()\n",
    "canvas.create_rectangle(10, 10, 50, 300)"
   ]
  },
  {
   "cell_type": "markdown",
   "id": "993b3dff",
   "metadata": {},
   "source": [
    "# Drawing a Lot of Rectangles"
   ]
  },
  {
   "cell_type": "markdown",
   "id": "afeec7cb",
   "metadata": {},
   "source": [
    "How about filling the canvas with different-sized rectangles? \n",
    "We can do this by importing the module random and then \n",
    "creating a function that uses a random number for \n",
    "the coordinates at the top-left and bottom-right corners of the rectangle.\n",
    "\n",
    "We’ll use the function provided by the random module called randrange. \n",
    "When we give this function a number, it returns a random integer \n",
    "between 0 and the number we give it. For example, calling randrange(10) \n",
    "would return a number between 0 and 9, randrange(100) \n",
    "would return a number between 0 and 99, and so on.\n",
    "\n",
    "Here’s how we use randrange in a function. \n",
    "Create a new window by selecting File ▸ New Window, and enter the following code:"
   ]
  },
  {
   "cell_type": "code",
   "execution_count": 39,
   "id": "7b0b4d3b",
   "metadata": {},
   "outputs": [],
   "source": [
    "from tkinter import *\n",
    "import random\n",
    "tk = Tk()\n",
    "canvas = Canvas(tk, width=400, height=400)\n",
    "canvas.pack()\n",
    "def random_rectangle(width, height):\n",
    "    x1 = random.randrange(width)\n",
    "    y1 = random.randrange(height)\n",
    "    x2 = x1 + random.randrange(width)\n",
    "    y2 = y1 + random.randrange(height)\n",
    "    canvas.create_rectangle(x1, y1, x2, y2)"
   ]
  },
  {
   "cell_type": "markdown",
   "id": "d375cfea",
   "metadata": {},
   "source": [
    "Save the code you’ve entered (select File ▸ Save and enter a filename such as randomrect.py) and \n",
    "then select Run ▸ Run Module. Once you’ve seen the function working, \n",
    "fill the screen with rectangles by creating a loop to call random_rectangle \n",
    "a number of times. Let’s try a for loop of 100 random rectangles. \n",
    "Add the following code, save your work, and try running it again:"
   ]
  },
  {
   "cell_type": "code",
   "execution_count": 40,
   "id": "220553a7",
   "metadata": {},
   "outputs": [],
   "source": [
    "for x in range(0, 100):\n",
    "    random_rectangle(400, 400)"
   ]
  },
  {
   "cell_type": "markdown",
   "id": "84e3941c",
   "metadata": {},
   "source": [
    "# Setting the Color"
   ]
  },
  {
   "cell_type": "markdown",
   "id": "95d4b6f6",
   "metadata": {},
   "source": [
    "Of course, we want to add color to our graphics. \n",
    "Let’s change the random_rectangle function to pass in a color for the \n",
    "rectangle as an additional parameter (fill_color). \n",
    "Enter this code in a new window, and when you save, call the file colorrect.py:"
   ]
  },
  {
   "cell_type": "code",
   "execution_count": 41,
   "id": "87f347dc",
   "metadata": {},
   "outputs": [],
   "source": [
    "from tkinter import *\n",
    "import random\n",
    "tk = Tk()\n",
    "canvas = Canvas(tk, width=400, height=400)\n",
    "canvas.pack()\n",
    "\n",
    "def random_rectangle(width, height, fill_color):\n",
    "    x1 = random.randrange(width)\n",
    "    y1 = random.randrange(height)\n",
    "    x2 = random.randrange(x1 + random.randrange(width))\n",
    "    y2 = random.randrange(y1 + random.randrange(height))\n",
    "    canvas.create_rectangle(x1, y1, x2, y2, fill=fill_color)"
   ]
  },
  {
   "cell_type": "code",
   "execution_count": 42,
   "id": "cfdf633b",
   "metadata": {},
   "outputs": [],
   "source": [
    "random_rectangle(400, 400, 'green')\n",
    "random_rectangle(400, 400, 'red')\n",
    "random_rectangle(400, 400, 'blue')\n",
    "random_rectangle(400, 400, 'orange')\n",
    "random_rectangle(400, 400, 'yellow')\n",
    "random_rectangle(400, 400, 'pink')\n",
    "random_rectangle(400, 400, 'purple')\n",
    "random_rectangle(400, 400, 'violet')\n",
    "random_rectangle(400, 400, 'magenta')\n",
    "random_rectangle(400, 400, 'cyan')"
   ]
  },
  {
   "cell_type": "markdown",
   "id": "c4016b24",
   "metadata": {},
   "source": [
    "# Drawing Arcs"
   ]
  },
  {
   "cell_type": "markdown",
   "id": "b66ba876",
   "metadata": {},
   "source": [
    "An arc is a segment of the circumference of a circle or another curve, but in order to draw one with tkinter, \n",
    "you need to draw it inside a rectangle using the create_arc function, with code like this:"
   ]
  },
  {
   "cell_type": "markdown",
   "id": "b4f9745f",
   "metadata": {},
   "source": [
    "canvas.create_arc(10, 10, 200, 100, extent=180, style=ARC)"
   ]
  },
  {
   "cell_type": "code",
   "execution_count": 43,
   "id": "4b478220",
   "metadata": {},
   "outputs": [
    {
     "data": {
      "text/plain": [
       "1"
      ]
     },
     "execution_count": 43,
     "metadata": {},
     "output_type": "execute_result"
    }
   ],
   "source": [
    "from tkinter import *\n",
    "tk = Tk()\n",
    "canvas = Canvas(tk, width=400, height=400)\n",
    "canvas.pack()\n",
    "canvas.create_arc(10, 10, 200, 100, extent=180, style=ARC)"
   ]
  },
  {
   "cell_type": "code",
   "execution_count": 44,
   "id": "2660b226",
   "metadata": {},
   "outputs": [
    {
     "data": {
      "text/plain": [
       "5"
      ]
     },
     "execution_count": 44,
     "metadata": {},
     "output_type": "execute_result"
    }
   ],
   "source": [
    "from tkinter import *\n",
    "tk = Tk()\n",
    "canvas = Canvas(tk, width=400, height=400)\n",
    "canvas.pack()\n",
    "canvas.create_arc(10, 10, 200, 80, extent=45, style=ARC)\n",
    "canvas.create_arc(10, 80, 200, 160, extent=90, style=ARC)\n",
    "canvas.create_arc(10, 160, 200, 240, extent=135, style=ARC)\n",
    "canvas.create_arc(10, 240, 200, 320, extent=180, style=ARC)\n",
    "canvas.create_arc(10, 320, 200, 400, extent=359, style=ARC)"
   ]
  },
  {
   "cell_type": "markdown",
   "id": "553979df",
   "metadata": {},
   "source": [
    "# Drawing Polygons"
   ]
  },
  {
   "cell_type": "markdown",
   "id": "b8308470",
   "metadata": {},
   "source": [
    "# A polygon is any shape with three or more sides."
   ]
  },
  {
   "cell_type": "code",
   "execution_count": 45,
   "id": "3fd7c4c1",
   "metadata": {},
   "outputs": [
    {
     "data": {
      "text/plain": [
       "1"
      ]
     },
     "execution_count": 45,
     "metadata": {},
     "output_type": "execute_result"
    }
   ],
   "source": [
    "#Here’s how we can draw a triangle:\n",
    "\n",
    "from tkinter import *\n",
    "tk = Tk()\n",
    "canvas = Canvas(tk, width=400, height=400)\n",
    "canvas.pack()\n",
    "canvas.create_polygon(10, 10, 100, 10, 100, 110, fill=\"\",\n",
    "outline=\"black\")"
   ]
  },
  {
   "cell_type": "markdown",
   "id": "94e573f3",
   "metadata": {},
   "source": [
    "We can add another irregular polygon (a shape with uneven angles or sides) using this code:"
   ]
  },
  {
   "cell_type": "markdown",
   "id": "0609d6e4",
   "metadata": {},
   "source": [
    "canvas.create_polygon(200, 10, 240, 30, 120, 100, 140, 120, fill=\"\", outline=\"black\")"
   ]
  },
  {
   "cell_type": "markdown",
   "id": "08d63a42",
   "metadata": {},
   "source": [
    "# Displaying Text"
   ]
  },
  {
   "cell_type": "markdown",
   "id": "a399ecde",
   "metadata": {},
   "source": [
    "In addition to drawing shapes, you can also write on the canvas using create_text. \n",
    "This function takes only two coordinates (the x and y positions of the text), \n",
    "along with a named parameter for the text to display. In the following code, we create our canvas as \n",
    "before and then display a sentence positioned at the coordinates (150, 100). Save this code as text.py."
   ]
  },
  {
   "cell_type": "code",
   "execution_count": 46,
   "id": "a0c53356",
   "metadata": {},
   "outputs": [
    {
     "data": {
      "text/plain": [
       "1"
      ]
     },
     "execution_count": 46,
     "metadata": {},
     "output_type": "execute_result"
    }
   ],
   "source": [
    "from tkinter import *\n",
    "tk = Tk()\n",
    "canvas = Canvas(tk, width=400, height=400)\n",
    "canvas.pack()\n",
    "canvas.create_text(150, 100, text='There once was a man from Toulouse,')"
   ]
  },
  {
   "cell_type": "code",
   "execution_count": null,
   "id": "1c61cad0",
   "metadata": {},
   "outputs": [],
   "source": [
    "The create_text function takes some other useful parameters, such as a text fill color. \n",
    "In the following code, we call the create_text function with coordinates (130, 120), \n",
    "the text we want to display, and a red fill color."
   ]
  },
  {
   "cell_type": "code",
   "execution_count": null,
   "id": "8fabcb50",
   "metadata": {},
   "outputs": [],
   "source": [
    "canvas.create_text(130, 120, text='Who rode around on a moose.', fill='red')"
   ]
  },
  {
   "cell_type": "code",
   "execution_count": 47,
   "id": "d109e58e",
   "metadata": {},
   "outputs": [
    {
     "data": {
      "text/plain": [
       "5"
      ]
     },
     "execution_count": 47,
     "metadata": {},
     "output_type": "execute_result"
    }
   ],
   "source": [
    "canvas.create_text(150, 150, text='He said, \"It\\'s my curse,',\n",
    "font=('Times', 15))\n",
    "canvas.create_text(200, 200, text='But it could be worse,',\n",
    "font=('Helvetica', 20))\n",
    "canvas.create_text(220, 250, text='My cousin rides round',\n",
    "font=('Courier', 22))\n",
    "canvas.create_text(220, 300, text='on a goose.\"', font=('Courier', 30))"
   ]
  },
  {
   "cell_type": "markdown",
   "id": "cce4cd9c",
   "metadata": {},
   "source": [
    "# Creating Basic Animation"
   ]
  },
  {
   "cell_type": "markdown",
   "id": "9ce781b2",
   "metadata": {},
   "source": [
    "We’ve covered how to create static drawings—pictures that don’t move. What about creating animation?\n",
    "\n",
    "Animation is not necessarily a specialty of the tkinter module, \n",
    "but it can handle the basics. For example, we can create a \n",
    "filled triangle and then make it move across the screen using this code \n",
    "(don’t forget, select File ▸ New Window, save your work, and then run the code with Run ▸ Run Module):"
   ]
  },
  {
   "cell_type": "code",
   "execution_count": 1,
   "id": "e238b1fe",
   "metadata": {},
   "outputs": [],
   "source": [
    "import time\n",
    "from tkinter import *\n",
    "tk = Tk()\n",
    "canvas = Canvas(tk, width=400, height=200)\n",
    "canvas.pack()\n",
    "canvas.create_polygon(10, 10, 10, 60, 50, 35)\n",
    "for x in range(0, 60):\n",
    "    canvas.move(1, 5, 0)\n",
    "    tk.update()\n",
    "    time.sleep(0.05)"
   ]
  },
  {
   "cell_type": "markdown",
   "id": "93644abd",
   "metadata": {},
   "source": [
    "To make the triangle move diagonally down the screen, we can modify this code by calling move(1, 5, 5). To try this, \n",
    "close the canvas, and create a new file (File ▸ New Window) for the following code:"
   ]
  },
  {
   "cell_type": "markdown",
   "id": "c36ea811",
   "metadata": {},
   "source": [
    "import time\n",
    "from tkinter import *\n",
    "tk = Tk()\n",
    "canvas = Canvas(tk, width=400, height=400)\n",
    "canvas.pack()\n",
    "canvas.create_polygon(10, 10, 10, 60, 50, 35)\n",
    "for x in range(0, 60):\n",
    "    canvas.move(1, 5, 5)\n",
    "    tk.update()\n",
    "    time.sleep(0.05)"
   ]
  },
  {
   "cell_type": "markdown",
   "id": "04b9c0a2",
   "metadata": {},
   "source": [
    "To move the triangle diagonally back up the screen to its starting position, \n",
    "use −5, −5 (add this code to the bottom of the file):"
   ]
  },
  {
   "cell_type": "markdown",
   "id": "2180a5ad",
   "metadata": {},
   "source": [
    "for x in range(0, 60):\n",
    "    canvas.move(1, -5, -5)\n",
    "    tk.update()\n",
    "    time.sleep(0.05)"
   ]
  },
  {
   "cell_type": "markdown",
   "id": "147a1538",
   "metadata": {},
   "source": [
    "# Making an Object React to Something"
   ]
  },
  {
   "cell_type": "markdown",
   "id": "a1c313e8",
   "metadata": {},
   "source": [
    "We can make the triangle react when someone presses a key by using event bindings. \n",
    "Events are things that occur while a program is running, \n",
    "such as someone moving the mouse, pressing a key, or closing"
   ]
  },
  {
   "cell_type": "markdown",
   "id": "005a8f45",
   "metadata": {},
   "source": [
    "a window. You can tell tkinter to watch for these events and then do something in response.\n",
    "\n",
    "To begin handling events (making Python do something when an event occurs), we first create a function. \n",
    "The binding part comes when we tell tkinter that a particular function is bound (or associated) to a \n",
    "specific event; in other words, it will be automatically called by tkinter to handle that event."
   ]
  },
  {
   "cell_type": "markdown",
   "id": "763403af",
   "metadata": {},
   "source": [
    "For example, to make the triangle move when the enter key is pressed, we can define this function:"
   ]
  },
  {
   "cell_type": "markdown",
   "id": "2116a496",
   "metadata": {},
   "source": [
    "def movetriangle(event):\n",
    "     canvas.move(1, 5, 0)"
   ]
  },
  {
   "cell_type": "markdown",
   "id": "a6f285b4",
   "metadata": {},
   "source": [
    "The function takes a single parameter (event), which tkinter uses to send information to the \n",
    "function about the event. We now tell tkinter that this function should be used for a particular event, \n",
    "using the bind_all function on the canvas. \n",
    "The full code now looks like this:"
   ]
  },
  {
   "cell_type": "markdown",
   "id": "91fc120a",
   "metadata": {},
   "source": [
    "from tkinter import *\n",
    "tk = Tk()\n",
    "canvas = Canvas(tk, width=400, height=400)\n",
    "canvas.pack()\n",
    "canvas.create_polygon(10, 10, 10, 60, 50, 35)\n",
    "def movetriangle(event):\n",
    "    canvas.move(1, 5, 0)\n",
    "canvas.bind_all('<KeyPress-Return>', movetriangle)"
   ]
  },
  {
   "cell_type": "markdown",
   "id": "08f30226",
   "metadata": {},
   "source": [
    "The first parameter in this function describes the event that we want tkinter to watch for. \n",
    "In this case, it’s called <KeyPress-Return>, which is a press of the enter or return key.\n",
    "We tell tkinter that the movetriangle function should be called whenever this \n",
    "KeyPress event occurs. \n",
    "Run this code, click the canvas with your mouse, and then try pressing enter on your keyboard."
   ]
  },
  {
   "cell_type": "markdown",
   "id": "ecdadfd7",
   "metadata": {},
   "source": [
    "How about changing the direction of the triangle depending on different key presses, such as the arrow keys? \n",
    "That’s no problem. We just need to change the movetriangle function to the following:"
   ]
  },
  {
   "cell_type": "markdown",
   "id": "33485db6",
   "metadata": {},
   "source": [
    "def movetriangle(event):\n",
    "    if event.keysym == 'Up':\n",
    "        canvas.move(1, 0, −3)\n",
    "    elif event.keysym == 'Down':\n",
    "        canvas.move(1, 0, 3)\n",
    "    elif event.keysym == 'Left':\n",
    "        canvas.move(1, −3, 0)\n",
    "    else:\n",
    "        canvas.move(1, 3, 0)"
   ]
  },
  {
   "cell_type": "markdown",
   "id": "7ccd6b5e",
   "metadata": {},
   "source": [
    "The event object passed to movetriangle contains several variables. One of these variables \n",
    "is called keysym (for key symbol), which is a string that holds the value of the actual key pressed. \n",
    "The line if event.keysym == 'Up': says that if the keysym variable contains the string 'Up', \n",
    "we should call canvas.move with the parameters (1, 0, −3), as we do in the following line. If keysym contains 'Down', as in elif event.keysym == 'Down':, \n",
    "we call it with the parameters (1, 0, 3), and so on."
   ]
  },
  {
   "cell_type": "markdown",
   "id": "16b70ad4",
   "metadata": {},
   "source": [
    "We then tell tkinter that the movetriangle function should be used to handle events \n",
    "from four different keys (up, down, left, and right). The following shows \n",
    "how the code looks at this point. When you enter this code, it will again be a lot \n",
    "easier if you create a new shell window by selecting File ▸ New Window. \n",
    "Before running the code, save it with a meaningful filename, such as movingtriangle.py."
   ]
  },
  {
   "cell_type": "code",
   "execution_count": null,
   "id": "53ae31d1",
   "metadata": {},
   "outputs": [],
   "source": [
    "from tkinter import *\n",
    "tk = Tk()\n",
    "canvas = Canvas(tk, width=400, height=400)\n",
    "canvas.pack()\n",
    "canvas.create_polygon(10, 10, 10, 60, 50, 35)\n",
    "    def movetriangle(event):\n",
    "        if event.keysym == 'Up':\n",
    "        canvas.move(1, 0, −3)\n",
    "        elif event.keysym == 'Down':\n",
    "        canvas.move(1, 0, 3)\n",
    "        elif event.keysym == 'Left':\n",
    "        canvas.move(1, −3, 0)\n",
    "        else:\n",
    "            canvas.move(1, 3, 0)\n",
    "            canvas.bind_all('<KeyPress-Up>', movetriangle)\n",
    "            canvas.bind_all('<KeyPress-Down>', movetriangle)\n",
    "            canvas.bind_all('<KeyPress-Left>', movetriangle)\n",
    "            canvas.bind_all('<KeyPress-Right>', movetriangle)"
   ]
  },
  {
   "cell_type": "markdown",
   "id": "ca4a686e",
   "metadata": {},
   "source": [
    "On the first line of the movetriangle function, we check whether the keysym variable contains 'Up' at . \n",
    "If it does, we move the triangle upward using the move function with the parameters 1, 0, −3 at . \n",
    "The first parameter is the identifier of the triangle, the second is the amount to move to the right \n",
    "(we don’t want to move horizontally, so the value is 0), and the third is the amount to move downward (−3 pixels).\n",
    "\n",
    "We then check whether keysym contains 'Down' at , and if so, we move the triangle down (3 pixels) at . \n",
    "The final check is whether the value is 'Left' at , and if so, we move the triangle left (−3 pixels) at . \n",
    "If none of the values are matched, the final else at  moves the triangle right at .\n",
    "\n",
    "Now the triangle should move in the direction of the pressed arrow key."
   ]
  },
  {
   "cell_type": "markdown",
   "id": "b0f2f268",
   "metadata": {},
   "source": [
    "# More Ways to Use the Identifier"
   ]
  },
  {
   "cell_type": "markdown",
   "id": "b06343fd",
   "metadata": {},
   "source": [
    "Whenever we use a create_ function from the canvas, such as create_polygon or create_rectangle, \n",
    "an identifier is returned. This identifying number can be used with other canvas \n",
    "functions, as we did earlier with the move function:"
   ]
  },
  {
   "cell_type": "code",
   "execution_count": 3,
   "id": "5261f5cb",
   "metadata": {},
   "outputs": [
    {
     "data": {
      "text/plain": [
       "1"
      ]
     },
     "execution_count": 3,
     "metadata": {},
     "output_type": "execute_result"
    }
   ],
   "source": [
    "from tkinter import *\n",
    "tk = Tk()\n",
    "canvas = Canvas(tk, width=400, height=400)\n",
    "canvas.pack()\n",
    "canvas.create_polygon(10, 10, 10, 60, 50, 35)"
   ]
  },
  {
   "cell_type": "code",
   "execution_count": 5,
   "id": "b0ffdbd1",
   "metadata": {},
   "outputs": [],
   "source": [
    "canvas.move(1, 5, 0)"
   ]
  },
  {
   "cell_type": "code",
   "execution_count": 6,
   "id": "2a77fe32",
   "metadata": {},
   "outputs": [],
   "source": [
    "mytriangle = canvas.create_polygon(10, 10, 10, 60, 50, 35)\n",
    "canvas.move(mytriangle, 5, 0)"
   ]
  },
  {
   "cell_type": "markdown",
   "id": "14fef637",
   "metadata": {},
   "source": [
    "Say we create a red triangle:"
   ]
  },
  {
   "cell_type": "code",
   "execution_count": 7,
   "id": "1b133d46",
   "metadata": {},
   "outputs": [],
   "source": [
    "from tkinter import *\n",
    "tk = Tk()\n",
    "canvas = Canvas(tk, width=400, height=400)\n",
    "canvas.pack()\n",
    "mytriangle = canvas.create_polygon(10, 10, 10, 60, 50, 35, fill='red')"
   ]
  },
  {
   "cell_type": "markdown",
   "id": "9b619ed0",
   "metadata": {},
   "source": [
    "We can change the triangle to another color using itemconfig and use the \n",
    "identifier as the first parameter. The following code says, “Change the fill color of the \n",
    "object identified by the number in variable mytriangle to blue.”"
   ]
  },
  {
   "cell_type": "code",
   "execution_count": 8,
   "id": "39680744",
   "metadata": {},
   "outputs": [],
   "source": [
    "canvas.itemconfig(mytriangle, fill='blue')"
   ]
  },
  {
   "cell_type": "markdown",
   "id": "18c7a050",
   "metadata": {},
   "source": [
    "We could also give the triangle a different-colored outline, again using the identifier as the first parameter:"
   ]
  },
  {
   "cell_type": "code",
   "execution_count": 9,
   "id": "f58ec4b2",
   "metadata": {},
   "outputs": [],
   "source": [
    "canvas.itemconfig(mytriangle, outline='red')"
   ]
  }
 ],
 "metadata": {
  "kernelspec": {
   "display_name": "Python 3 (ipykernel)",
   "language": "python",
   "name": "python3"
  },
  "language_info": {
   "codemirror_mode": {
    "name": "ipython",
    "version": 3
   },
   "file_extension": ".py",
   "mimetype": "text/x-python",
   "name": "python",
   "nbconvert_exporter": "python",
   "pygments_lexer": "ipython3",
   "version": "3.9.12"
  }
 },
 "nbformat": 4,
 "nbformat_minor": 5
}
